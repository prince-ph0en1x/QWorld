{
 "cells": [
  {
   "cell_type": "markdown",
   "metadata": {},
   "source": [
    "### SciPy Optimizers\n",
    "\n",
    "The minimize function provides a common interface to unconstrained and constrained minimization algorithms for multivariate scalar functions in scipy.optimize. We will focus on 3 optimizers in the SciPy package:\n",
    "* Unconstrained minimization: Nelder-Mead\n",
    "* Bound-Constrained minimization: L-BGFS-B\n",
    "* Constrained minimization: SLSQP"
   ]
  },
  {
   "cell_type": "markdown",
   "metadata": {},
   "source": [
    "#### Nelder-Mead\n",
    "\n",
    "Method Nelder-Mead uses the Simplex algorithm. This algorithm is robust in many applications. However, if numerical computation of derivative can be trusted, other algorithms using the first and/or second derivatives information might be preferred for their better performance in general.\n",
    "\n",
    "The simplex algorithm is probably the simplest way to minimize a fairly well-behaved function. It requires only function evaluations and is a good choice for simple minimization problems. However, because it does not use any gradient evaluations, it may take longer to find the minimum.\n",
    "\n",
    "1. Nelder, J A, and R Mead. 1965. A Simplex Method for Function Minimization. The Computer Journal 7: 308-13.\n",
    "2. Wright M H. 1996. Direct search methods: Once scorned, now respectable, in Numerical Analysis 1995: Proceedings of the 1995 Dundee Biennial Conference in Numerical Analysis (Eds. D F Griffiths and G A Watson). Addison Wesley Longman, Harlow, UK. 191-208.\n",
    "\n",
    "scipy.optimize.minimize(fun, x0, args=(), method='Nelder-Mead', tol=None, callback=None, options={'func': None, 'maxiter': None, 'maxfev': None, 'disp': False, 'return_all': False, 'initial_simplex': None, 'xatol': 0.0001, 'fatol': 0.0001, 'adaptive': False})\n",
    "* fun: The objective function to be minimized.\n",
    "* x0: Initial guess.\n",
    "* args: Extra arguments passed to the objective function and its derivatives (fun, jac and hess functions).\n",
    "* tol: Tolerance for termination.\n",
    "* callback: Called after each iteration.\n",
    "* options:\n",
    "    * func\n",
    "    * maxiter: Maximum allowed number of iterations.\n",
    "    * maxfev: Maximum allowed number of function evaluations.\n",
    "    * disp: Set to True to print convergence messages.\n",
    "    * return_all\n",
    "    * initial_simplex: Initial simplex. If given, overrides x0.\n",
    "    * xatol: Absolute error in xopt between iterations that is acceptable for convergence.\n",
    "    * fatol: Absolute error in func(xopt) between iterations that is acceptable for convergence.\n",
    "    * adaptive: Adapt algorithm parameters to dimensionality of problem. Useful for high-dimensional minimization.\n",
    "    \n",
    "Rosenbrock function\n",
    "\n",
    "$f(x) = \\sum_{i=2}^N 100(x_{i+1}-x_i^2)^2+(1-x_i)^2$\n",
    "\n",
    "The minimum value of this function of N variables is 0 which is achieved when $x_i=1$\n"
   ]
  },
  {
   "cell_type": "code",
   "execution_count": 1,
   "metadata": {},
   "outputs": [
    {
     "name": "stdout",
     "output_type": "stream",
     "text": [
      "[1.00000002 1.00000002 1.00000007 1.00000015 1.00000028]\n",
      "Optimization terminated successfully.\n",
      "         Current function value: 0.000000\n",
      "         Iterations: 339\n",
      "         Function evaluations: 571\n",
      "[1. 1. 1. 1. 1.]\n"
     ]
    }
   ],
   "source": [
    "from scipy.optimize import minimize\n",
    "\n",
    "x0 = [1.3, 0.7, 0.8, 1.9, 1.2]\n",
    "\n",
    "from scipy.optimize import rosen\n",
    "res = minimize(rosen, x0, method='Nelder-Mead', tol=1e-6)\n",
    "print(res.x)\n",
    "\n",
    "def my_rosen(x):\n",
    "    return sum(100.0*(x[1:]-x[:-1]**2.0)**2.0 + (1-x[:-1])**2.0)\n",
    "my_res = minimize(my_rosen, x0, method='Nelder-Mead', options={'xtol':1e-8, 'disp':True})\n",
    "print(my_res.x)"
   ]
  }
 ],
 "metadata": {
  "kernelspec": {
   "display_name": "Python 3",
   "language": "python",
   "name": "python3"
  },
  "language_info": {
   "codemirror_mode": {
    "name": "ipython",
    "version": 3
   },
   "file_extension": ".py",
   "mimetype": "text/x-python",
   "name": "python",
   "nbconvert_exporter": "python",
   "pygments_lexer": "ipython3",
   "version": "3.7.0"
  }
 },
 "nbformat": 4,
 "nbformat_minor": 2
}

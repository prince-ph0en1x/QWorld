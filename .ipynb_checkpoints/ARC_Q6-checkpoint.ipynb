{
 "cells": [
  {
   "cell_type": "markdown",
   "metadata": {},
   "source": [
    "# Unitary Matrix Decomposition\n",
    "\n",
    "using Ry, Rz, CNOT"
   ]
  },
  {
   "cell_type": "markdown",
   "metadata": {},
   "source": [
    "## Testing "
   ]
  },
  {
   "cell_type": "markdown",
   "metadata": {},
   "source": [
    "### Type 1: Binomial Oracles\n",
    "\n",
    "Ref: Section 4.4.4 M.Sc. thesis"
   ]
  },
  {
   "cell_type": "markdown",
   "metadata": {},
   "source": [
    "### Type 2: Weighted Sum-of-Product of Paulis\n",
    "\n",
    "Ref: Chapter 4 Ph.D. thesis"
   ]
  },
  {
   "cell_type": "code",
   "execution_count": 62,
   "metadata": {},
   "outputs": [
    {
     "name": "stdout",
     "output_type": "stream",
     "text": [
      "[[-0.01407927+0.62213322j -0.21280173+0.61618609j -0.03208224+0.20874548j\n",
      "  -0.2697742 +0.26533013j]\n",
      " [-0.60311417-0.47770164j  0.28743503+0.42747802j  0.26405907+0.06433995j\n",
      "  -0.04853977+0.25782776j]\n",
      " [-0.13837654-0.03770775j  0.10940883+0.0529061j  -0.63209766+0.58634887j\n",
      "   0.47023558-0.01366586j]\n",
      " [-0.01454891-0.00498522j -0.51394617-0.17539599j  0.36256269+0.08200653j\n",
      "   0.53512459+0.52945628j]]\n"
     ]
    }
   ],
   "source": [
    "import numpy as np\n",
    "from scipy.linalg import expm\n",
    "\n",
    "def check_hermitian(A):\n",
    "\n",
    "    adjoint = A.conj().T # a.k.a. conjugate-transpose, transjugate, dagger\n",
    "    assert(np.allclose(A,adjoint))\n",
    "\n",
    "def gen_wsopp(n_qubits = 1):\n",
    "    \n",
    "    H = np.zeros([2**n_qubits,2**n_qubits])\n",
    "    \n",
    "    I = np.array([[1,0],[0,1]])\n",
    "    X = np.array([[0,1],[1,0]])\n",
    "    Y = np.array([[0,complex(0,-1)],[complex(0,1),0]])\n",
    "    Z = np.array([[1,0],[0,-1]])\n",
    "    \n",
    "    for i in range(4**n_qubits):\n",
    "        pt = format(i,\"0\"+str(2*n_qubits)+\"b\")\n",
    "        sopp = [1]\n",
    "        for j in range(0,len(pt),2):\n",
    "            k = pt[j:j+2]\n",
    "            if k == '00':\n",
    "                sopp = np.kron(sopp,I)\n",
    "            elif k == '01':\n",
    "                sopp = np.kron(sopp,X)\n",
    "            elif k == '10':\n",
    "                sopp = np.kron(sopp,Y)\n",
    "            else:\n",
    "                sopp = np.kron(sopp,Z)\n",
    "        w = np.random.uniform(0,1)\n",
    "        H = H + w*sopp\n",
    "    check_hermitian(H)\n",
    "    return H\n",
    "\n",
    "def check_unitary(U):\n",
    "\n",
    "    adjoint = U.conj().T # a.k.a. conjugate-transpose, transjugate, dagger  \n",
    "    assert(np.allclose(U.dot(adjoint),adjoint.dot(U)))  \n",
    "    assert(np.allclose(U.dot(adjoint),np.eye(U.shape[0])))\n",
    "    return \n",
    "\n",
    "def gen_unitary(n_qubit = 1):\n",
    "    H = gen_wsopp(n_qubit)\n",
    "    U = expm(complex(0,-1)*H)\n",
    "    check_unitary(U)\n",
    "    return U\n",
    "\n",
    "print(gen_unitary(2))"
   ]
  }
 ],
 "metadata": {
  "kernelspec": {
   "display_name": "Python 3",
   "language": "python",
   "name": "python3"
  },
  "language_info": {
   "codemirror_mode": {
    "name": "ipython",
    "version": 3
   },
   "file_extension": ".py",
   "mimetype": "text/x-python",
   "name": "python",
   "nbconvert_exporter": "python",
   "pygments_lexer": "ipython3",
   "version": "3.7.0"
  }
 },
 "nbformat": 4,
 "nbformat_minor": 2
}

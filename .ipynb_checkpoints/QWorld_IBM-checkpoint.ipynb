{
 "cells": [
  {
   "cell_type": "code",
   "execution_count": null,
   "metadata": {},
   "outputs": [],
   "source": [
    "print(\"Hello Quantum World of IBM\")"
   ]
  },
  {
   "cell_type": "markdown",
   "metadata": {},
   "source": [
    "# QISKIT\n",
    "\n",
    "Qiskit (Quantum Information Science Kit) is a collection of software for working with short-depth quantum circuits, and running near-term applications and experiments on quantum computers. In Qiskit, a quantum program is an array of quantum circuits. The program workflow consists of three stages: Build, Compile, and Run. Build allows you to generate different quantum circuits that represent the algorithm you are solving. Compile allows you to rewrite them to run on different backends (simulators/real chips of different quantum volumes, sizes, fidelity, etc). Run launches the jobs. After the jobs have been run, the data is collected. There are methods for putting this data together, depending on the program. This either gives you the answer you wanted or allows you to make a better program for the next instance."
   ]
  },
  {
   "cell_type": "markdown",
   "metadata": {},
   "source": [
    "### TERRA + AER"
   ]
  },
  {
   "cell_type": "code",
   "execution_count": null,
   "metadata": {},
   "outputs": [],
   "source": [
    "from qiskit import QuantumCircuit, QuantumRegister\n",
    "from qiskit.tools.visualization import circuit_drawer\n",
    "\n",
    "# Create a Quantum Register with 3 qubits. Naming the QuantumRegister is optional\n",
    "q = QuantumRegister(3, 'qreg')\n",
    "print(q.name,q.size)\n",
    "qtest = QuantumRegister(3, 'qt')\n",
    "\n",
    "# Create a Quantum Circuit acting on the q register\n",
    "circ = QuantumCircuit(q)\n",
    "# >> circ.add_register(q)\n",
    "\n",
    "# Making a GHZ state\n",
    "\n",
    "# Add a H gate on qubit 0, putting this qubit in superposition.\n",
    "circ.h(q[0])\n",
    "# Add a CX (CNOT) gate on control qubit 0 and target qubit 1, putting the qubits in a Bell state.\n",
    "circ.cx(q[0], q[1])\n",
    "# Add a CX (CNOT) gate on control qubit 0 and target qubit 2, putting the qubits in a GHZ state.\n",
    "circ.cx(q[0], q[2])\n",
    "\n",
    "circuit_drawer(circ)\n",
    "# >> circ.draw()\n",
    "\n",
    "# total number of operations in the circuit. no unrolling is done.\n",
    "# >> circ.size()\n",
    "# depth of circuit (number of ops on the critical path)# depth  \n",
    "# >> circuit.depth()\n",
    "# number of qubits in the circuit\n",
    "# >> circuit.width()\n",
    "# a breakdown of operations by type\n",
    "# >> circuit.count_ops()\n",
    "# number of unentangled subcircuits in this circuit.\n",
    "# each subcircuit can in principle be executed on a different quantum processor!\n",
    "# >> circuit.num_tensor_factors()"
   ]
  },
  {
   "cell_type": "markdown",
   "metadata": {},
   "source": [
    "Qiskit Aer is the package for simulating quantum circuits. It provides many different backends for doing a simulation. The most common backend in Qiskit Aer is the statevector_simulator. This simulator returns the quantum state which is a complex vector of dimensions $2^n$ where $n$ is the number of qubits.\n",
    "\n",
    "Qiskit convention for state vector: qubit 0 is in the least significant position in the binary representation of the state string."
   ]
  },
  {
   "cell_type": "code",
   "execution_count": null,
   "metadata": {},
   "outputs": [],
   "source": [
    "from qiskit import Aer\n",
    "from qiskit import execute\n",
    "import numpy as np\n",
    "from qiskit.tools.visualization import plot_state\n",
    "# >> from qiskit.quantum_info import Pauli, state_fidelity, basis_state, process_fidelity\n",
    "\n",
    "# Run the quantum circuit on a statevector simulator backend\n",
    "backend = Aer.get_backend('statevector_simulator')\n",
    "\n",
    "# Create a Quantum Program for execution \n",
    "job = execute(circ, backend)\n",
    "\n",
    "result = job.result()\n",
    "\n",
    "outputstate  = result.get_statevector(circ)\n",
    "print(\"simulation: \", result)\n",
    "print(np.around(outputstate,3))\n",
    "plot_state(outputstate)\n",
    "\n",
    "# >> state_fidelity(basis_state('011', 3), state)"
   ]
  },
  {
   "cell_type": "markdown",
   "metadata": {},
   "source": [
    "Qiskit Aer also includes a unitary_simulator that works provided all the elements in the circuit are unitary operations. This backend calculates the $2^n \\times 2^n$ matrix representing the gates in the quantum circuit."
   ]
  },
  {
   "cell_type": "code",
   "execution_count": null,
   "metadata": {},
   "outputs": [],
   "source": [
    "# Run the quantum circuit on a unitary simulator backend\n",
    "backend = Aer.get_backend('unitary_simulator')\n",
    "job = execute(circ, backend)\n",
    "result = job.result()\n",
    "\n",
    "# Show the results\n",
    "print(\"simulation: \", result)\n",
    "print(np.around(result.get_unitary(circ), 3))\n",
    "# >> process_fidelity(Pauli(label='IXXI').to_matrix(), unitary)"
   ]
  },
  {
   "cell_type": "markdown",
   "metadata": {},
   "source": [
    "A real experiment terminates by measuring each qubit (usually in the computational $|0\\rangle, |1\\rangle$ basis). Without measurement, we cannot gain information about the state. Measurements cause the quantum system to collapse into classical bits xyz with probability $\\mathrm{Pr}(xyz) = |\\langle xyz | \\psi \\rangle |^{2}$. To simulate a circuit that includes measurement, we need to add measurements to the original circuit above, and use a different Aer backend. To simulate this circuit, we use the qasm_simulator in Qiskit Aer. Each run of this circuit will yield either the bitstring 000 or 111. To build up statistics about the distribution of the bitstrings (to, e.g., estimate $\\mathrm{Pr}(000)$), we need to repeat the circuit many times. The number of times the circuit is repeated can be specified in the execute function, via the shots keyword."
   ]
  },
  {
   "cell_type": "code",
   "execution_count": null,
   "metadata": {},
   "outputs": [],
   "source": [
    "from qiskit import ClassicalRegister\n",
    "from qiskit.tools.visualization import plot_histogram\n",
    "\n",
    "# Create a Classical Register with 3 bits.\n",
    "c = ClassicalRegister(3, 'c')\n",
    "# Create a Quantum Circuit\n",
    "meas = QuantumCircuit(q, c)\n",
    "meas.barrier(q)\n",
    "# map the quantum measurement to the classical bits\n",
    "meas.measure(q,c)\n",
    "\n",
    "# The Qiskit circuit object supports composition using the addition operator.\n",
    "qc = circ+meas\n",
    "\n",
    "#drawing the circuit\n",
    "circuit_drawer(qc)\n",
    "\n",
    "# Use Aer's qasm_simulator\n",
    "backend_sim = Aer.get_backend('qasm_simulator')\n",
    "\n",
    "# Execute the circuit on the qasm simulator.\n",
    "# We've set the number of repeats of the circuit to be 1024, which is the default.\n",
    "job_sim = execute(qc, backend_sim, shots=1024)\n",
    "\n",
    "# Grab the results from the job.\n",
    "result_sim = job_sim.result()\n",
    "\n",
    "# Access the aggregated binary outcomes of the circuit\n",
    "counts = result_sim.get_counts(qc)\n",
    "print(counts)\n",
    "\n",
    "plot_histogram(counts)"
   ]
  },
  {
   "cell_type": "markdown",
   "metadata": {},
   "source": [
    "A single qubit quantum state can be written as $|\\psi\\rangle = \\alpha|0\\rangle + \\beta |1\\rangle$ where $\\alpha$ and $\\beta$ are complex numbers. In a measurement the probability of the bit being in $|0\\rangle$ is $|\\alpha|^2$ and $|1\\rangle$ is $|\\beta|^2$.\n",
    "\n",
    "Due to conservation probability $|\\alpha|^2+ |\\beta|^2 = 1$ and since global phase is undetectable $|\\psi\\rangle := e^{i\\delta} |\\psi\\rangle$ we only require two real numbers to describe a single qubit quantum state.\n",
    "$$|\\psi\\rangle = \\cos(\\theta/2)|0\\rangle + \\sin(\\theta/2)e^{i\\phi}|1\\rangle$$\n",
    "where $0 \\leq \\phi < 2\\pi$, and $0\\leq \\theta \\leq \\pi$. From this it is clear that there is a one-to-one correspondence between qubit states ($\\mathbb{C}^2$) and the points on the surface of a unit sphere ($\\mathbb{R}^3$). This is called the Bloch sphere representation of a qubit state.\n",
    "\n",
    "The general single qubit unitary is\n",
    "$$\n",
    "U = \\begin{pmatrix}\n",
    "\\cos(\\theta/2) & -e^{i\\lambda}\\sin(\\theta/2) \\\\\n",
    "e^{i\\phi}\\sin(\\theta/2) & e^{i\\lambda+i\\phi}\\cos(\\theta/2) \n",
    "\\end{pmatrix}\n",
    "$$\n",
    "\n",
    "The $u3(\\theta, \\phi, \\lambda, q[i]) = U(\\theta, \\phi, \\lambda)$ special cases:\n",
    "* $u2(\\phi, \\lambda, q[i]) = u3(\\pi/2, \\phi, \\lambda, q[i])$ -- useful for creating superpositions\n",
    "* $u1(\\lambda, q[i])= u3(0, 0, \\lambda, q[i])$  -- for appling a quantum phase\n",
    "* $u0(\\delta, q[i])= u3(0, 0, 0, q[i])$ -- identity, adds noise in the waiting time\n",
    "* $iden(q[i]) = u3(0, 0, 0, q[i])$ -- same as u0\n",
    "* $x(q[i]) = u3(\\pi, 0, \\pi, q[i])$ -- Pauli-X (bit flip)\n",
    "* $y(q[i]) = u3(\\pi, \\pi/2, \\pi/2, q[i])$ -- Pauli-Y\n",
    "* $z(q[i]) = u3(0, 0, \\pi, q[i])$ -- Pauli-Z (phase flip)\n",
    "* $h(q[i]) = u3(\\pi/2, 0, \\pi, q[i])$ -- Hadamard gate\n",
    "* $s(q[i]) = u3(0, 0, \\pi/2, q[i])$ -- S gate ($\\sqrt{Z}$)\n",
    "* $sdg(q[i]) = u3(0, 0, -\\pi/2, q[i])$ -- $S^{\\dagger}$ gate (conjugate $\\sqrt{Z}$)\n",
    "* $t(q[i]) = u3(0, 0, \\pi/4, q[i])$ -- T gate ($\\sqrt{S}$)\n",
    "* $tdg(q[i]) = u3(0, 0, -\\pi/4, q[i])$ -- $T^{\\dagger}$ gate (conjugate $\\sqrt{S}$)\n",
    "* $rx(\\theta,q[i]) = u3(\\theta, -\\pi/2, \\pi/2, q[i])$ -- Rotation-X\n",
    "* $ry(\\theta,q[i]) = u3(\\theta, 0, 0, q[i])$ -- Rotation-Y\n",
    "* $rz(\\theta,q[i]) = u3(0, 0, \\theta, q[i])$ -- Rotation-Z (u1 with global phase $e^{-i \\phi/2}$)"
   ]
  },
  {
   "cell_type": "code",
   "execution_count": null,
   "metadata": {},
   "outputs": [],
   "source": [
    "from math import pi\n",
    "\n",
    "backend = Aer.get_backend('unitary_simulator')\n",
    "\n",
    "q = QuantumRegister(1,'qtest')\n",
    "qc = QuantumCircuit(q)\n",
    "qc.u3(pi,pi/2,pi/4,q[0])\n",
    "\n",
    "job = execute(qc, backend)\n",
    "print(np.round(job.result().get_data(qc)['unitary'], 3))\n",
    "circuit_drawer(qc)"
   ]
  },
  {
   "cell_type": "markdown",
   "metadata": {},
   "source": [
    "The two-qubit gates are:\n",
    "* $swap(q[i],q[j])$ -- SWAP\n",
    "* $cx(q[c],q[t])$ -- Controlled-Pauli-X (CNOT)\n",
    "* $cy(q[c],q[t])$ -- Controlled-Pauli-Y\n",
    "* $cz(q[c],q[t])$ -- Controlled-Pauli-Z (CPhase)\n",
    "* $ch(q[c],q[t])$ -- Controlled-Hadamard\n",
    "* $crz(\\theta,q[c],q[t])$ -- Controlled-Rotation-Z\n",
    "* $cu1(\\theta,q[c],q[t])$ -- Controlled-Arbitrary-Phase\n",
    "* $cu3(\\theta,\\phi,\\lambda,q[c],q[t])$ -- Controlled-U3\n",
    "\n",
    "The three-qubit gates are:\n",
    "* $ccx(q[c1],q[c2],q[t])$ -- Toffoli gate (CCNOT, CCX)\n",
    "* $cswap(q[c],q[i],q[j])$ -- Fredkin gate (CSWAP)\n",
    "\n",
    "Non-unitary irreversible operations are:\n",
    "* $measure(q[i],c[i])$ -- Measure on standard basis\n",
    "* $reset(q[i])$ -- Reset to 0 of standard basis"
   ]
  },
  {
   "cell_type": "code",
   "execution_count": null,
   "metadata": {},
   "outputs": [],
   "source": [
    "#import matplotlib.pyplot as plt\n",
    "#%matplotlib inline\n",
    "from math import pi\n",
    "\n",
    "backend = Aer.get_backend('qasm_simulator')\n",
    "\n",
    "q = QuantumRegister(2,'qtest')\n",
    "c = ClassicalRegister(1,'c')\n",
    "\n",
    "qc = QuantumCircuit(q,c)\n",
    "qc.x(q[0])\n",
    "qc.cu3(pi/4,pi/2,pi,q[0],q[1])\n",
    "qc.reset(q[0])\n",
    "qc.measure(q[1], c[0]) # has to be in array addressing even if size 1\n",
    "\n",
    "\n",
    "job = execute(qc, backend, shots=1024)\n",
    "print(job.result().get_counts(qc)) # shows unmeasured qubits as 0\n",
    "circuit_drawer(qc)"
   ]
  },
  {
   "cell_type": "markdown",
   "metadata": {},
   "source": [
    "* Operations conditioned on the state of the classical register\n",
    "* Initializing a qubit register to an arbitrary state with a vector of, where the sum of amplitude-norms-squared equals 1\n",
    "* Fidelity is useful to check whether two states are same or not. For quantum (pure) states the fidelity is\n",
    "$\n",
    "F\\left(\\left|\\psi_1\\right\\rangle,\\left|\\psi_2\\right\\rangle\\right) = \\left|\\left\\langle\\psi_1\\middle|\\psi_2\\right\\rangle\\right|^2.\n",
    "$"
   ]
  },
  {
   "cell_type": "code",
   "execution_count": null,
   "metadata": {},
   "outputs": [],
   "source": [
    "#from qiskit import available_backends, register, get_backend\n",
    "#from qiskit import available_backends, register, get_backend\n",
    "#from qiskit import available_backends, register, get_backend\n",
    "from qiskit.tools.qi.qi import state_fidelity\n",
    "\n",
    "backend = Aer.get_backend('statevector_simulator')\n",
    "\n",
    "q = QuantumRegister(1,'qtest')\n",
    "c = ClassicalRegister(1,'c')\n",
    "qc = QuantumCircuit(q, c)\n",
    "\n",
    "import math\n",
    "desired_vector = [\n",
    "    1 / math.sqrt(2) * complex(1, 0),\n",
    "    1 / math.sqrt(2) * complex(1, 0)]\n",
    "\n",
    "# qc.initialize(desired_vector, [q[0]]) # circuit_drawer doesn't work with arbitrary initialization\n",
    "qc.h(q[0])\n",
    "\n",
    "job = execute(qc, backend)\n",
    "qc_state = job.result().get_statevector(qc)\n",
    "print(qc_state)\n",
    "print(state_fidelity(desired_vector,qc_state))\n",
    "\n",
    "# The following 2 lines implement the Reset operation\n",
    "qc.measure(q,c)\n",
    "qc.x(q[0]).c_if(c,1)\n",
    "\n",
    "qc.measure(q,c)\n",
    "circuit_drawer(qc) "
   ]
  },
  {
   "cell_type": "markdown",
   "metadata": {},
   "source": [
    "Circuits can also be run on the IBMQ or IBM HPC Simulator\n",
    "* https://github.com/Qiskit/qiskit-tutorial/blob/master/qiskit/basics/getting_started_with_qiskit_terra.ipynb\n",
    "* https://github.com/Qiskit/qiskit-tutorial/blob/master/qiskit/basics/the_ibmq_provider.ipynb\n",
    "\n",
    "More advanced Plotting and Circuit visualizing features are available\n",
    "* https://github.com/Qiskit/qiskit-tutorial/blob/master/qiskit/basics/plotting_data_in_qiskit.ipynb\n",
    "* https://github.com/Qiskit/qiskit-tutorial/blob/master/qiskit/terra/visualizing_a_quantum_circuit.ipynb\n",
    "\n"
   ]
  },
  {
   "cell_type": "markdown",
   "metadata": {},
   "source": [
    "### IGNIS\n",
    "\n",
    "Right now we consider perfect logical qubits. The Ignis package simulates physical noise and error correction. It will be considered later.\n",
    "* https://github.com/Qiskit/qiskit-tutorial/tree/master/qiskit/ignis"
   ]
  },
  {
   "cell_type": "markdown",
   "metadata": {},
   "source": [
    "### AQUA\n",
    "\n",
    "The algorithm development suite consists of the following domains (in order of relevance to us):\n",
    "* General\n",
    "* Optimization\n",
    "* Artificial_intelligence\n",
    "* Finance\n",
    "* Chemistry"
   ]
  },
  {
   "cell_type": "code",
   "execution_count": null,
   "metadata": {},
   "outputs": [],
   "source": []
  }
 ],
 "metadata": {
  "kernelspec": {
   "display_name": "Python 3",
   "language": "python",
   "name": "python3"
  },
  "language_info": {
   "codemirror_mode": {
    "name": "ipython",
    "version": 3
   },
   "file_extension": ".py",
   "mimetype": "text/x-python",
   "name": "python",
   "nbconvert_exporter": "python",
   "pygments_lexer": "ipython3",
   "version": "3.7.0"
  }
 },
 "nbformat": 4,
 "nbformat_minor": 2
}

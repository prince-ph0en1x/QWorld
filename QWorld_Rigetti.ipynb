{
 "cells": [
  {
   "cell_type": "code",
   "execution_count": 1,
   "metadata": {},
   "outputs": [
    {
     "name": "stdout",
     "output_type": "stream",
     "text": [
      "Hello Quantum World of Rigetti\n"
     ]
    }
   ],
   "source": [
    "print(\"Hello Quantum World of Rigetti\")"
   ]
  },
  {
   "cell_type": "markdown",
   "metadata": {},
   "source": [
    "# Forest\n",
    "\n",
    "The Rigetti Forest Software Development Kit includes pyQuil, the Rigetti Quil Compiler (quilc), and the Quantum Virtual Machine (qvm).\n",
    "\n",
    "The install instructions are concise and clear\n",
    "* https://pyquil.readthedocs.io/en/stable/start.html#\n"
   ]
  },
  {
   "cell_type": "markdown",
   "metadata": {},
   "source": [
    "### pyQuil + QVM"
   ]
  },
  {
   "cell_type": "code",
   "execution_count": 5,
   "metadata": {},
   "outputs": [
    {
     "name": "stdout",
     "output_type": "stream",
     "text": [
      "[0 1 1 1 0 0 1 1 1 1]\n",
      "[0 1 1 1 0 0 1 1 1 1]\n"
     ]
    }
   ],
   "source": [
    "from pyquil import Program, get_qc\n",
    "from pyquil.gates import *\n",
    "\n",
    "# construct a Bell State program\n",
    "p = Program(H(0), CNOT(0, 1))\n",
    "\n",
    "# run the program on a QVM\n",
    "qc = get_qc('9q-square-qvm')\n",
    "result = qc.run_and_measure(p, trials=10)\n",
    "print(result[0])\n",
    "print(result[1])"
   ]
  },
  {
   "cell_type": "code",
   "execution_count": 7,
   "metadata": {},
   "outputs": [
    {
     "name": "stdout",
     "output_type": "stream",
     "text": [
      "[1 1 1 1 1 1 1 1 1 1]\n",
      "[0 0 0 0 0 0 0 0 0 0]\n",
      "X 0\n",
      "\n"
     ]
    }
   ],
   "source": [
    "# Method 2: instantiate a Program and add an operation to it.\n",
    "p = Program()\n",
    "p += X(0)\n",
    "\n",
    "# run the program on a QVM\n",
    "qc = get_qc('9q-square-qvm')\n",
    "result = qc.run_and_measure(p, trials=3) # letting the QuantumComputer abstraction measure all qubits\n",
    "print(result[0])\n",
    "print(result[1])\n",
    "\n",
    "# print pyQuil program to see the equivalent Quil representation\n",
    "print(p)"
   ]
  },
  {
   "cell_type": "markdown",
   "metadata": {},
   "source": [
    "Classical memory regions must be explicitly requested and named by a Quil program using the DECLARE directive. \n",
    "\n",
    "def declare(self, name, memory_type='BIT', memory_size=1, shared_region=None, offsets=None):\n",
    "* name is any name you want to give this memory region.\n",
    "* memory_type is one of 'REAL', 'BIT', 'OCTET', or 'INTEGER' (given as a string). Only BIT and OCTET always have a determined size, which is 1 bit and 8 bits respectively.\n",
    "* memory_size is the number of elements of that type to reserve.\n",
    "* shared_region and offsets allow you to alias memory regions. For example, you might want to name the third bit in your readout array as q3_ro. SHARING is currently disallowed for QPUs.\n",
    "\n",
    ".declare cannot be chained, since it doesn’t return a modified Program object."
   ]
  },
  {
   "cell_type": "code",
   "execution_count": 17,
   "metadata": {},
   "outputs": [
    {
     "name": "stdout",
     "output_type": "stream",
     "text": [
      "DECLARE ro BIT[2]\n",
      "X 1\n",
      "MEASURE 0 ro[0]\n",
      "MEASURE 1 ro[1]\n",
      "\n",
      "[[0 1]]\n"
     ]
    }
   ],
   "source": [
    "# have to DECLARE a memory space to read measurement “readout results” and abbreviate as ro\n",
    "p = Program()\n",
    "roval = p.declare('ro', 'BIT', 2)\n",
    "p += X(1)\n",
    "p += MEASURE(0, roval[0])\n",
    "p += MEASURE(1, roval[1])\n",
    "print(p)\n",
    "\n",
    "qc = get_qc('2q-qvm')  # any 'nq-qvm' can be made this way for any reasonable 'n'\n",
    "executable = qc.compile(p)\n",
    "result = qc.run(executable)\n",
    "print(result)"
   ]
  },
  {
   "cell_type": "markdown",
   "metadata": {},
   "source": [
    "The QPU can only handle MEASURE final programs. You can’t operate gates after measurements."
   ]
  },
  {
   "cell_type": "code",
   "execution_count": 23,
   "metadata": {},
   "outputs": [
    {
     "name": "stdout",
     "output_type": "stream",
     "text": [
      "489\n"
     ]
    }
   ],
   "source": [
    "p = Program()\n",
    "roval = p.declare('ro', 'BIT', 1)\n",
    "p += H(0)\n",
    "p += MEASURE(0, roval[0])\n",
    "\n",
    "p.wrap_in_numshots_loop(1000) # Method 2: specifying number of trials\n",
    "\n",
    "qc = get_qc('1q-qvm') \n",
    "executable = qc.compile(p)\n",
    "result = qc.run(executable)\n",
    "\n",
    "ones = 0\n",
    "for i in range(1000):\n",
    "    if (result[i] == 1):\n",
    "        ones += 1\n",
    "print(ones) # expected around 50% of 1000"
   ]
  },
  {
   "cell_type": "markdown",
   "metadata": {},
   "source": [
    "The Standard Gate Set of Quil and gates.py:\n",
    "* Pauli gates I, X, Y, Z\n",
    "* Hadamard gate: H\n",
    "* Phase gates: PHASE(theta), S, T\n",
    "* Controlled phase gates: CZ, CPHASE00(alpha), CPHASE01(alpha), CPHASE10(alpha), CPHASE(alpha)\n",
    "* Cartesian rotation gates: RX(theta), RY(theta), RZ(theta)\n",
    "* Controlled X gates: CNOT, CCNOT\n",
    "* Swap gates: SWAP, CSWAP, ISWAP, PSWAP(alpha)\n",
    "\n",
    "Gate applications in Quil can be preceded by a gate modifier. There are two supported modifiers: DAGGER and CONTROLLED\n",
    "\n",
    "The parameterized gates take a real or complex floating point number as an argument.\n",
    "\n",
    "Modern quantum algorithms are often parametric, following a hybrid model. In this hybrid model, the program ansatz (template of gates) is fixed, and iteratively updated with new parameters. These new parameters are often determined by an update given by a classical optimizer. Depending on the complexity of the algorithm, problem of interest, and capabilities of the classical optimizer, this loop may need to run many times. In order to efficiently operate within this hybrid model, parametric compilation can be used.\n",
    "\n",
    "Parametric compilation allows one to compile the program ansatz just once. Making use of declared memory regions, we can **load values to the parametric gates at execution time, after compilation**. Taking the compiler out of the execution loop for programs like this offers a huge performance improvement compared to compiling the program each time a parameter update is required.\n",
    "\n",
    "The first step is to build a parametric program, which functions like a template for all the precise programs that will run.\n",
    "\n",
    "THe example below puts the qubit onto the equator of the Bloch Sphere and then rotates it around the Z axis for some variable angle theta before applying another X pulse and measuring. It is similar to an experiment which measures the qubit frequency."
   ]
  },
  {
   "cell_type": "code",
   "execution_count": 35,
   "metadata": {},
   "outputs": [],
   "source": [
    "import numpy as np\n",
    "\n",
    "qubit = 0\n",
    "\n",
    "p = Program()\n",
    "ro = p.declare(\"ro\", \"BIT\", 1)\n",
    "theta_ref = p.declare(\"theta\", \"REAL\")\n",
    "\n",
    "p += RX(np.pi / 2, qubit)\n",
    "p += RZ(theta_ref, qubit)\n",
    "p += RX(-np.pi / 2, qubit)\n",
    "\n",
    "p += MEASURE(qubit, ro[0])\n",
    "\n",
    "qc = get_qc(\"1q-qvm\")\n",
    "executable = qc.compile(p) # able to compile the program, even with theta still not specified\n",
    "\n",
    "# Somewhere to store each list of results\n",
    "parametric_measurements = []\n",
    "\n",
    "for theta in np.linspace(0, 2 * np.pi, 200):\n",
    "    # Get the results of the run with the value we want to execute with\n",
    "    bitstrings = qc.run(executable, {'theta': [theta]})\n",
    "    # Store our results\n",
    "    parametric_measurements.append(bitstrings)"
   ]
  },
  {
   "cell_type": "markdown",
   "metadata": {},
   "source": [
    "New gates can be easily added inline to Quil programs with a matrix representation of the gate. Custom parametric gates require a slightly different way."
   ]
  },
  {
   "cell_type": "code",
   "execution_count": 51,
   "metadata": {},
   "outputs": [
    {
     "name": "stdout",
     "output_type": "stream",
     "text": [
      "DEFGATE SQRT-X:\n",
      "    0.5+0.5i, 0.5-0.5i\n",
      "    0.5-0.5i, 0.5+0.5i\n",
      "\n",
      "DEFGATE X-SQRT-X:\n",
      "    0.0, 0.0, 0.5+0.5i, 0.5-0.5i\n",
      "    0.0, 0.0, 0.5-0.5i, 0.5+0.5i\n",
      "    0.5+0.5i, 0.5-0.5i, 0.0, 0.0\n",
      "    0.5-0.5i, 0.5+0.5i, 0.0, 0.0\n",
      "\n",
      "DEFGATE CRX(%theta):\n",
      "    1, 0, 0, 0\n",
      "    0, 1, 0, 0\n",
      "    0, 0, cos(%theta/2), -i*sin(%theta/2)\n",
      "    0, 0, -i*sin(%theta/2), cos(%theta/2)\n",
      "\n",
      "SQRT-X 0\n",
      "X-SQRT-X 0 1\n",
      "CRX(pi/2) 0 1\n",
      "DECLARE theta REAL[1]\n",
      "CRX(theta) 0 1\n",
      "\n",
      "DEFGATE SQRT-X:\n",
      "    0.5+0.5i, 0.5-0.5i\n",
      "    0.5-0.5i, 0.5+0.5i\n",
      "\n",
      "DEFGATE X-SQRT-X:\n",
      "    0.0, 0.0, 0.5+0.5i, 0.5-0.5i\n",
      "    0.0, 0.0, 0.5-0.5i, 0.5+0.5i\n",
      "    0.5+0.5i, 0.5-0.5i, 0.0, 0.0\n",
      "    0.5-0.5i, 0.5+0.5i, 0.0, 0.0\n",
      "\n",
      "DEFGATE CRX(%theta):\n",
      "    1, 0, 0, 0\n",
      "    0, 1, 0, 0\n",
      "    0, 0, cos(%theta/2), -i*sin(%theta/2)\n",
      "    0, 0, -i*sin(%theta/2), cos(%theta/2)\n",
      "\n",
      "SQRT-X 0\n",
      "X-SQRT-X 0 1\n",
      "CRX(pi/2) 0 1\n",
      "DECLARE theta REAL[1]\n",
      "\n"
     ]
    }
   ],
   "source": [
    "from pyquil.quil import DefGate\n",
    "from pyquil.parameters import Parameter, quil_sin, quil_cos\n",
    "\n",
    "# First we define the new gate from a matrix\n",
    "sqrt_x = np.array([[ 0.5+0.5j,  0.5-0.5j],\n",
    "                   [ 0.5-0.5j,  0.5+0.5j]])\n",
    "\n",
    "# Get the Quil definition for the new gate\n",
    "sqrt_x_definition = DefGate(\"SQRT-X\", sqrt_x)\n",
    "# Get the gate constructor\n",
    "SQRT_X = sqrt_x_definition.get_constructor()\n",
    "\n",
    "# Then we can use the new gate\n",
    "p = Program()\n",
    "p += sqrt_x_definition\n",
    "p += SQRT_X(0)\n",
    "\n",
    "# A multi-qubit defgate example\n",
    "x_gate_matrix = np.array(([0.0, 1.0], [1.0, 0.0]))\n",
    "sqrt_x = np.array([[ 0.5+0.5j,  0.5-0.5j],\n",
    "                [ 0.5-0.5j,  0.5+0.5j]])\n",
    "x_sqrt_x = np.kron(x_gate_matrix, sqrt_x)\n",
    "x_sqrt_x_definition = DefGate(\"X-SQRT-X\", x_sqrt_x)\n",
    "X_SQRT_X = x_sqrt_x_definition.get_constructor()\n",
    "\n",
    "# Then we can use the new gate\n",
    "p += Program(x_sqrt_x_definition, X_SQRT_X(0, 1))\n",
    "\n",
    "# Define the new gate from a matrix\n",
    "theta = Parameter('theta')\n",
    "crx = np.array([\n",
    "    [1, 0, 0, 0],\n",
    "    [0, 1, 0, 0],\n",
    "    [0, 0, quil_cos(theta / 2), -1j * quil_sin(theta / 2)],\n",
    "    [0, 0, -1j * quil_sin(theta / 2), quil_cos(theta / 2)]\n",
    "])\n",
    "\n",
    "gate_definition = DefGate('CRX', crx, [theta])\n",
    "CRX = gate_definition.get_constructor()\n",
    "\n",
    "# Create our program and use the new parametric gate\n",
    "p += gate_definition\n",
    "p += CRX(np.pi/2)(0, 1)\n",
    "\n",
    "# Dynamic definition of custom parametric gate\n",
    "theta_dyn= p.declare(\"theta\", \"REAL\")\n",
    "p += CRX(theta_dyn)(0, 1)\n",
    "\n",
    "print(p)\n",
    "\n",
    "p.pop() # If an instruction was appended to a program incorrectly (conditionally)\n",
    "print(p)"
   ]
  },
  {
   "cell_type": "markdown",
   "metadata": {},
   "source": [
    "Wavefunction Simulator allows directly inspecting the wavefunction of a quantum state prepared by the program. Because of the probabilistic nature of quantum information, the programs on the QPU can give a distribution of outputs. When running on the QPU or QVM, one can aggregate results (anywhere from tens of trials to 100k+!) that can be sampled to get back a distribution. With the Wavefunction Simulator, the distribution can be examined without having to collect samples from the program. This can save a lot of time for small programs. "
   ]
  },
  {
   "cell_type": "code",
   "execution_count": 44,
   "metadata": {},
   "outputs": [
    {
     "name": "stdout",
     "output_type": "stream",
     "text": [
      "(0.5+0.5j)|01> + (0.5-0.5j)|11>\n"
     ]
    }
   ],
   "source": [
    "from pyquil.api import WavefunctionSimulator\n",
    "\n",
    "print(WavefunctionSimulator().wavefunction(p))"
   ]
  },
  {
   "cell_type": "markdown",
   "metadata": {},
   "source": [
    "For more info, visit:\n",
    "* https://pyquil.readthedocs.io/en/stable/basics.html#\n",
    "* https://pyquil.readthedocs.io/en/stable/apidocs/program.html\n",
    "* https://pyquil.readthedocs.io/en/stable/apidocs/gates.html\n",
    "\n",
    "For compiler related settings:\n",
    "* https://pyquil.readthedocs.io/en/stable/compiler.html#\n",
    "* https://pyquil.readthedocs.io/en/stable/apidocs/compilers.html\n",
    "* https://pyquil.readthedocs.io/en/stable/qvm-man.html\n",
    "* https://pyquil.readthedocs.io/en/stable/quilc-man.html\n",
    "\n",
    "For QPU related settings:\n",
    "* https://pyquil.readthedocs.io/en/stable/qvm.html#the-quantum-processing-unit\n",
    "* https://pyquil.readthedocs.io/en/stable/apidocs/quantum_computer.html\n",
    "* https://pyquil.readthedocs.io/en/stable/apidocs/devices.html\n",
    "\n",
    "For noise simulations:\n",
    "* https://pyquil.readthedocs.io/en/stable/noise.html#\n",
    "* https://pyquil.readthedocs.io/en/stable/apidocs/noise.html"
   ]
  },
  {
   "cell_type": "markdown",
   "metadata": {},
   "source": [
    "Classical control flow is not yet supported in the QPU.\n",
    "* https://pyquil.readthedocs.io/en/stable/advanced_usage.html#classical-control-flow\n",
    "\n",
    "On QVM, the example below declare a register called flag_register to use as a boolean test for looping, initialized to 1, so while loop will execute. This is often called the loop preamble or loop initialization. The body of the loop is its own Program. This will be a program that applies an X gate followed by a H gate on a qubit. Using the while_do() method to add control flow.\n",
    "\n",
    "The outer_loop program applied a Quil instruction directly to a classical register. There are several classical commands that can be used in this fashion:\n",
    "* NOT which flips a classical bit\n",
    "* AND which operates on two classical bits\n",
    "* IOR which operates on two classical bits\n",
    "* MOVE which moves the value of a classical bit at one classical address into another\n",
    "* EXCHANGE which swaps the value of two classical bits"
   ]
  },
  {
   "cell_type": "code",
   "execution_count": 52,
   "metadata": {},
   "outputs": [
    {
     "name": "stdout",
     "output_type": "stream",
     "text": [
      "DECLARE flag_register BIT[1]\n",
      "MOVE flag_register 1\n",
      "LABEL @START1\n",
      "JUMP-UNLESS @END2 flag_register\n",
      "X 0\n",
      "H 0\n",
      "MEASURE 0 flag_register\n",
      "JUMP @START1\n",
      "LABEL @END2\n",
      "\n"
     ]
    }
   ],
   "source": [
    "# Initialize the Program and declare a 1 bit memory space for our boolean flag\n",
    "outer_loop = Program()\n",
    "flag_register = outer_loop.declare('flag_register', 'BIT')\n",
    "\n",
    "# Set the initial flag value to 1\n",
    "outer_loop += MOVE(flag_register, 1)\n",
    "\n",
    "# Define the body of the loop with a new Program\n",
    "inner_loop = Program()\n",
    "inner_loop += Program(X(0), H(0))\n",
    "inner_loop += MEASURE(0, flag_register)\n",
    "\n",
    "# Run inner_loop in a loop until flag_register is 0\n",
    "outer_loop.while_do(flag_register, inner_loop)\n",
    "\n",
    "print(outer_loop)"
   ]
  },
  {
   "cell_type": "markdown",
   "metadata": {},
   "source": [
    "Conditional branching in the form of the traditional if construct includes constructing programs for each branch of the if, and put it all together by using the if_then() method."
   ]
  },
  {
   "cell_type": "code",
   "execution_count": 53,
   "metadata": {},
   "outputs": [
    {
     "name": "stdout",
     "output_type": "stream",
     "text": [
      "DECLARE test_register BIT[1]\n",
      "DECLARE ro BIT[1]\n",
      "H 1\n",
      "MEASURE 1 test_register\n",
      "JUMP-WHEN @THEN1 test_register\n",
      "JUMP @END2\n",
      "LABEL @THEN1\n",
      "X 0\n",
      "LABEL @END2\n",
      "MEASURE 0 ro\n",
      "\n"
     ]
    },
    {
     "data": {
      "text/plain": [
       "array([[1],\n",
       "       [1],\n",
       "       [0],\n",
       "       [1],\n",
       "       [1],\n",
       "       [0],\n",
       "       [0],\n",
       "       [1],\n",
       "       [0],\n",
       "       [0]])"
      ]
     },
     "execution_count": 53,
     "metadata": {},
     "output_type": "execute_result"
    }
   ],
   "source": [
    "# Declare our memory spaces\n",
    "branching_prog = Program()\n",
    "test_register = branching_prog.declare('test_register', 'BIT')\n",
    "ro = branching_prog.declare('ro', 'BIT')\n",
    "\n",
    "# Construct each branch of our if-statement. We can have empty branches\n",
    "# simply by having empty programs.\n",
    "then_branch = Program(X(0))\n",
    "else_branch = Program()\n",
    "\n",
    "# Construct our program so that the result in test_register is equally likely to be a 0 or 1\n",
    "branching_prog += H(1)\n",
    "branching_prog += MEASURE(1, test_register)\n",
    "\n",
    "# Add the conditional branching\n",
    "branching_prog.if_then(test_register, then_branch, else_branch)\n",
    "\n",
    "# Measure qubit 0 into our readout register\n",
    "branching_prog += MEASURE(0, ro)\n",
    "\n",
    "print(branching_prog)\n",
    "\n",
    "qc = get_qc(\"2q-qvm\")\n",
    "branching_prog.wrap_in_numshots_loop(10)\n",
    "qc.run(branching_prog)"
   ]
  },
  {
   "cell_type": "markdown",
   "metadata": {},
   "source": [
    "The Probabilistic Halting Problem: A fun example is to create a program that has an exponentially increasing chance of halting, but that may run forever!"
   ]
  },
  {
   "cell_type": "code",
   "execution_count": 55,
   "metadata": {},
   "outputs": [
    {
     "name": "stdout",
     "output_type": "stream",
     "text": [
      "[[0]]\n"
     ]
    }
   ],
   "source": [
    "p = Program()\n",
    "ro = p.declare('ro', 'BIT', 1)\n",
    "inside_loop = Program(H(0)).measure(0, ro[0])\n",
    "p.inst(X(0)).while_do(ro[0], inside_loop)\n",
    "\n",
    "qc = get_qc('9q-square-qvm')\n",
    "print (qc.run(qc.compile(p)))"
   ]
  },
  {
   "cell_type": "markdown",
   "metadata": {},
   "source": [
    "Quantum Algorithms developed on Forest\n",
    "* https://www.rigetti.com/community\n",
    "* https://github.com/msohaibalam/Link_to_Quantum_game\n",
    "* https://github.com/qosf/os_quantum_software"
   ]
  },
  {
   "cell_type": "markdown",
   "metadata": {},
   "source": [
    "### Grove\n",
    "\n",
    "A collection of quantum algorithms built using the Rigetti Forest platform.\n",
    "* Variational-Quantum-Eigensolver (VQE)\n",
    "* Quantum Approximate Optimization Algorithm (QAOA)\n",
    "* Quantum Fourier Transform (QFT)\n",
    "* Phase Estimation Algorithm\n",
    "* Histogram based Tomography\n",
    "* Grover’s Search Algorithm and Amplitude Amplification\n",
    "* Bernstein-Vazirani Algorithm\n",
    "* Simon’s Algorithm\n",
    "* Deutsch-Jozsa Algorithm\n",
    "* Arbitrary State Generation\n",
    "\n",
    "Links:\n",
    "* https://grove-docs.readthedocs.io/en/latest/\n",
    "* https://github.com/rigetti/grove"
   ]
  },
  {
   "cell_type": "code",
   "execution_count": null,
   "metadata": {},
   "outputs": [],
   "source": []
  }
 ],
 "metadata": {
  "kernelspec": {
   "display_name": "Python 3",
   "language": "python",
   "name": "python3"
  },
  "language_info": {
   "codemirror_mode": {
    "name": "ipython",
    "version": 3
   },
   "file_extension": ".py",
   "mimetype": "text/x-python",
   "name": "python",
   "nbconvert_exporter": "python",
   "pygments_lexer": "ipython3",
   "version": "3.7.0"
  }
 },
 "nbformat": 4,
 "nbformat_minor": 2
}
